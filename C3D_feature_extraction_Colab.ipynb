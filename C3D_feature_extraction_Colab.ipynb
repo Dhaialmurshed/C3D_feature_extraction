{
  "nbformat": 4,
  "nbformat_minor": 0,
  "metadata": {
    "colab": {
      "name": "AI_Final_C3D_2.ipynb",
      "version": "0.3.2",
      "provenance": [],
      "collapsed_sections": []
    },
    "kernelspec": {
      "name": "python3",
      "display_name": "Python 3"
    },
    "accelerator": "GPU"
  },
  "cells": [
    {
      "cell_type": "markdown",
      "metadata": {
        "id": "oPTjmrEPqnZz",
        "colab_type": "text"
      },
      "source": [
        " **Connect Google Drive.**"
      ]
    },
    {
      "cell_type": "code",
      "metadata": {
        "id": "yiyseveba-Wj",
        "colab_type": "code",
        "colab": {}
      },
      "source": [
        "##### required\n",
        "from google.colab import drive\n",
        "drive.mount('/content/drive/')"
      ],
      "execution_count": 0,
      "outputs": []
    },
    {
      "cell_type": "markdown",
      "metadata": {
        "id": "Pxr-KDakq98p",
        "colab_type": "text"
      },
      "source": [
        "**Setup C3D model**"
      ]
    },
    {
      "cell_type": "code",
      "metadata": {
        "id": "IyIJMikImm7f",
        "colab_type": "code",
        "colab": {}
      },
      "source": [
        "cd drive/My\\ Drive/"
      ],
      "execution_count": 0,
      "outputs": []
    },
    {
      "cell_type": "code",
      "metadata": {
        "id": "mtPHsiaWmnlX",
        "colab_type": "code",
        "colab": {}
      },
      "source": [
        "!git clone https://github.com/facebook/C3D.git"
      ],
      "execution_count": 0,
      "outputs": []
    },
    {
      "cell_type": "code",
      "metadata": {
        "id": "FaxQKGiGmt60",
        "colab_type": "code",
        "colab": {}
      },
      "source": [
        "cd C3D/C3D-v1.0/"
      ],
      "execution_count": 0,
      "outputs": []
    },
    {
      "cell_type": "code",
      "metadata": {
        "id": "rmHJ2XiRmz6I",
        "colab_type": "code",
        "colab": {}
      },
      "source": [
        "#upload \"Makefile.config\" from \"\"  at \"/content/drive/My\\ Drive/C3D/C3D-v1.0/\""
      ],
      "execution_count": 0,
      "outputs": []
    },
    {
      "cell_type": "code",
      "metadata": {
        "id": "I9Wm_jwTCcrD",
        "colab_type": "code",
        "colab": {}
      },
      "source": [
        "cd /content/drive/My\\ Drive/C3D/C3D-v1.0/python/"
      ],
      "execution_count": 0,
      "outputs": []
    },
    {
      "cell_type": "code",
      "metadata": {
        "id": "IkfyhAcZgHXa",
        "colab_type": "code",
        "colab": {}
      },
      "source": [
        "##### required\n",
        "!pip install -r requirements.txt"
      ],
      "execution_count": 0,
      "outputs": []
    },
    {
      "cell_type": "code",
      "metadata": {
        "id": "-pzl5mVzgR5K",
        "colab_type": "code",
        "colab": {}
      },
      "source": [
        "##### required\n",
        "!sudo apt-get install libprotobuf-dev libleveldb-dev libsnappy-dev libopencv-dev libboost-all-dev libhdf5-serial-dev"
      ],
      "execution_count": 0,
      "outputs": []
    },
    {
      "cell_type": "code",
      "metadata": {
        "id": "dA5unLorgXQ5",
        "colab_type": "code",
        "colab": {}
      },
      "source": [
        "##### required\n",
        "!sudo apt install libgoogle-glog-dev"
      ],
      "execution_count": 0,
      "outputs": []
    },
    {
      "cell_type": "code",
      "metadata": {
        "id": "u1vllw1knfdc",
        "colab_type": "code",
        "colab": {}
      },
      "source": [
        "!sudo make all -j 32 #this will build caffe file.\n",
        "#If any error occurs google it out.\n",
        "#It is important to build all files before extacting video features."
      ],
      "execution_count": 0,
      "outputs": []
    },
    {
      "cell_type": "markdown",
      "metadata": {
        "id": "2KukmtbmrUOI",
        "colab_type": "text"
      },
      "source": [
        "**Setup input video file.**"
      ]
    },
    {
      "cell_type": "code",
      "metadata": {
        "id": "Z3voxrmTmyUN",
        "colab_type": "code",
        "colab": {}
      },
      "source": [
        "cd /content"
      ],
      "execution_count": 0,
      "outputs": []
    },
    {
      "cell_type": "code",
      "metadata": {
        "id": "nWPgQSN6qH8A",
        "colab_type": "code",
        "colab": {}
      },
      "source": [
        "#Add video file at \"/content\"\n",
        "#OR One can use wget to download file."
      ],
      "execution_count": 0,
      "outputs": []
    },
    {
      "cell_type": "code",
      "metadata": {
        "id": "7LemXPIum2Rq",
        "colab_type": "code",
        "colab": {}
      },
      "source": [
        "#optional\n",
        "!wget -c #url path"
      ],
      "execution_count": 0,
      "outputs": []
    },
    {
      "cell_type": "code",
      "metadata": {
        "id": "nFdE6dSdoXVS",
        "colab_type": "code",
        "colab": {}
      },
      "source": [
        "ls"
      ],
      "execution_count": 0,
      "outputs": []
    },
    {
      "cell_type": "code",
      "metadata": {
        "id": "iwlPGB5DoUIR",
        "colab_type": "code",
        "colab": {}
      },
      "source": [
        "#optional\n",
        "!unzip 'file?_download_id=568491081304655559918203938266521313726466418467821400456514286237'"
      ],
      "execution_count": 0,
      "outputs": []
    },
    {
      "cell_type": "markdown",
      "metadata": {
        "id": "0wmoy08fr7t1",
        "colab_type": "text"
      },
      "source": [
        "**Start feature extraction process.**"
      ]
    },
    {
      "cell_type": "code",
      "metadata": {
        "id": "NSv7Pi9kXQRS",
        "colab_type": "code",
        "colab": {}
      },
      "source": [
        "cd /content/drive/My\\ Drive/C3D/C3D-v1.0/examples/c3d_feature_extraction/"
      ],
      "execution_count": 0,
      "outputs": []
    },
    {
      "cell_type": "code",
      "metadata": {
        "id": "AthzjyOQstWv",
        "colab_type": "code",
        "colab": {}
      },
      "source": [
        "!sudo chmod 777 /content/drive/My\\ Drive/C3D/C3D-v1.0/build/tools/extract_image_features.bin"
      ],
      "execution_count": 0,
      "outputs": []
    },
    {
      "cell_type": "code",
      "metadata": {
        "id": "toIj6Ontssm4",
        "colab_type": "code",
        "colab": {}
      },
      "source": [
        "!wget conv3d_deepnetA_sport1m_iter_1900000 https://www.dropbox.com/s/vr8ckp0pxgbldhs/conv3d_deepnetA_sport1m_iter_1900000?dl=0"
      ],
      "execution_count": 0,
      "outputs": []
    },
    {
      "cell_type": "code",
      "metadata": {
        "id": "62rcW4lcsZRv",
        "colab_type": "code",
        "colab": {}
      },
      "source": [
        "#Test everything work properly.\n",
        "!sh c3d_sport1m_feature_extraction_frm.sh"
      ],
      "execution_count": 0,
      "outputs": []
    },
    {
      "cell_type": "code",
      "metadata": {
        "id": "4iyshBXULFFH",
        "colab_type": "code",
        "colab": {}
      },
      "source": [
        "# Video feature script to extract video.\n",
        "# Edit script according to your required config of file extraction.\n",
        "!sudo python extract_C3D_feature.py"
      ],
      "execution_count": 0,
      "outputs": []
    },
    {
      "cell_type": "code",
      "metadata": {
        "id": "GvjWFoZnoBeW",
        "colab_type": "code",
        "colab": {}
      },
      "source": [
        "#output .txt feature file is save at \"/content/drive/My\\ Drive/C3D/C3D-v1.0/examples/c3d_feature_extraction/out/\""
      ],
      "execution_count": 0,
      "outputs": []
    }
  ]
}